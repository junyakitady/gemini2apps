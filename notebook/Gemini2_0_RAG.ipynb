{
  "cells": [
    {
      "cell_type": "markdown",
      "metadata": {
        "id": "ZSWwxB9v6bIw"
      },
      "source": [
        "# Vertex AI Gemini API の基本的な利用方法と Gemini が提供する Grounding 手法を理解する"
      ]
    },
    {
      "cell_type": "markdown",
      "metadata": {
        "id": "yN4ysJ4dEDZ3"
      },
      "source": [
        "## はじめに\n",
        "Grounding は一般的に RAG とも言われる特定の情報を参照して回答することでハルシネーションを軽減したり、企業独自の内容で質問に回答させる手法です。Gemini ではネイティブに Grounding を前提とした API を提供しており、簡単なコーディングでRAGを実装することが可能です。"
      ]
    },
    {
      "cell_type": "markdown",
      "metadata": {
        "id": "PhMpleLM-D9I"
      },
      "source": [
        "## 環境セットアップ\n",
        "Python の前提パッケージを導入します。Vertex AI Gemini API を利用する場合は 1 つ目のライブラリだけが必須となります。LangChain を利用する場合は 2 つ目以降のライブラリも導入します。"
      ]
    },
    {
      "cell_type": "code",
      "execution_count": null,
      "metadata": {
        "id": "FcFsnGYQyCFr"
      },
      "outputs": [],
      "source": [
        "%pip install --upgrade google-genai langchain-google-vertexai langchain-google-community google-cloud-discoveryengine"
      ]
    },
    {
      "cell_type": "markdown",
      "metadata": {
        "id": "CoXHNNlE8XJ_"
      },
      "source": [
        "次のスクリプトでカーネルを再起動します。\n",
        "\n",
        " - コンシューマー向け Colab の場合、上記のログに\"RESTART RUNTIME\"ボタンをが表示された場合、ボタンを押してカーネルをリスタートできます。\n",
        " - Vertex AI Workbench の場合、メニューよりカーネルのリスタートを実行できます。"
      ]
    },
    {
      "cell_type": "code",
      "execution_count": null,
      "metadata": {
        "id": "GGE98v3DzNQy"
      },
      "outputs": [],
      "source": [
        "import IPython\n",
        "\n",
        "app = IPython.Application.instance()\n",
        "app.kernel.do_shutdown(True)"
      ]
    },
    {
      "cell_type": "markdown",
      "metadata": {
        "id": "DydWIC418q_4"
      },
      "source": [
        "また、このコードを実行するユーザーに`Vertex AI ユーザー`の IAM ロールを付与します。\n",
        "\n",
        "Colab の場合、以下を実行し Vertex AI API のユーザー権限をもつアカウントでログインします。 Vertex AI Workbench の場合はスキップされます。"
      ]
    },
    {
      "cell_type": "code",
      "execution_count": null,
      "metadata": {
        "id": "ReKvMDOnzUeM"
      },
      "outputs": [],
      "source": [
        "import sys\n",
        "\n",
        "if \"google.colab\" in sys.modules:\n",
        "    # Authenticate user to Google Cloud\n",
        "    from google.colab import auth\n",
        "\n",
        "    auth.authenticate_user()"
      ]
    },
    {
      "cell_type": "markdown",
      "metadata": {
        "id": "EaIQDOSJ867g"
      },
      "source": [
        "環境変数などを定義します。 Google Cloud のプロジェクト ID を指定してください。"
      ]
    },
    {
      "cell_type": "code",
      "execution_count": null,
      "metadata": {
        "id": "TUxGArvR0MuR"
      },
      "outputs": [],
      "source": [
        "PROJECT_ID = \"<your_project_id>\"  # @param {type: \"string\"}\n",
        "LOCATION = \"global\"  # @param {type: \"string\"}\n",
        "MODEL_ID = \"gemini-2.0-flash-001\"  # @param {type: \"string\"}"
      ]
    },
    {
      "cell_type": "markdown",
      "metadata": {
        "id": "2VarUdS88_nk"
      },
      "source": [
        "Gemini API を初期化します。"
      ]
    },
    {
      "cell_type": "code",
      "execution_count": null,
      "metadata": {
        "id": "SmF-dsJ70dsf"
      },
      "outputs": [],
      "source": [
        "from IPython.display import Markdown, HTML\n",
        "from google import genai\n",
        "from google.genai.types import Part, GenerateContentConfig, Tool, GoogleSearch, VertexAISearch, Retrieval\n",
        "\n",
        "client = genai.Client(vertexai=True, project=PROJECT_ID, location=LOCATION)"
      ]
    },
    {
      "cell_type": "markdown",
      "metadata": {
        "id": "ZS6SC-189E-_"
      },
      "source": [
        "Gemini の質問するプロンプトを定義します。"
      ]
    },
    {
      "cell_type": "code",
      "execution_count": null,
      "metadata": {
        "id": "T_uZugrt0tw1"
      },
      "outputs": [],
      "source": [
        "PROMPT = \"Google Cloud の2023年と2024年のRevenueは?\"\n",
        "#PROMPT = \"Cloud Spannerの特徴は？\""
      ]
    },
    {
      "cell_type": "markdown",
      "metadata": {
        "id": "GzisS4Ar9MPW"
      },
      "source": [
        "## Gemini の知識だけで回答\n",
        "\n",
        "最初に Gemini の知識だけでの回答を確認します。基盤モデル学習時に存在しない最新の情報にはハルシネーションが含まれる場合があります。"
      ]
    },
    {
      "cell_type": "code",
      "execution_count": null,
      "metadata": {
        "colab": {
          "base_uri": "https://localhost:8080/",
          "height": 87
        },
        "id": "08GkV4Hz5DFq",
        "outputId": "1c8bf6ad-e31b-44d3-d9f7-51eb20665992"
      },
      "outputs": [
        {
          "data": {
            "text/markdown": [
              "Google Cloudの収益に関する情報は、Googleの親会社であるAlphabetの決算報告書で確認できます。\n",
              "\n",
              "*   **2023年:** Google Cloudの収益は**330億7600万ドル**でした。\n",
              "*   **2024年第1四半期:** Google Cloudの収益は**95億700万ドル**でした。\n",
              "\n",
              "2024年全体の収益は、まだ発表されていません。Alphabetの四半期ごとの決算報告書で更新される予定です。"
            ],
            "text/plain": [
              "<IPython.core.display.Markdown object>"
            ]
          },
          "execution_count": 5,
          "metadata": {},
          "output_type": "execute_result"
        }
      ],
      "source": [
        "#generate_content()利用\n",
        "#response = client.models.generate_content(model=MODEL_ID, contents=PROMPT)\n",
        "#Chat API利用\n",
        "chat = client.chats.create(model=MODEL_ID)\n",
        "response = chat.send_message(PROMPT)\n",
        "Markdown(response.text)"
      ]
    },
    {
      "cell_type": "markdown",
      "metadata": {
        "id": "T-BwuJpP-P3L"
      },
      "source": [
        "## Gemini にPDFファイルを直接渡して回答\n",
        "\n",
        "PDF ファイルを取得します。"
      ]
    },
    {
      "cell_type": "code",
      "execution_count": null,
      "metadata": {
        "id": "-8E8UBWi80sD"
      },
      "outputs": [],
      "source": [
        "!curl -o ref.pdf https://abc.xyz/assets/77/51/9841ad5c4fbe85b4440c47a4df8d/goog-10-k-2024.pdf\n",
        "#!curl -o ref.pdf https://lp.cloudplatformonline.com/rs/808-GJW-314/images/Database_OnAir_q2_0409_Session.pdf\n",
        "with open(\"ref.pdf\", \"rb\") as f:\n",
        "    pdfFile = f.read()"
      ]
    },
    {
      "cell_type": "markdown",
      "metadata": {
        "id": "ofjwWVLK-qMN"
      },
      "source": [
        "PDF ファイルとプロンプトを直接 Gemini に入力します。\n",
        "\n",
        "ここでのポイントは、Gemini は PDF の認識に対応しているため、PDF ファイルを別途パースしてテキスト部分を取り出すする必要はありません。また、マルチモーダルで図表を認識するため、図表固有の抽出処理も必要ありません。"
      ]
    },
    {
      "cell_type": "code",
      "execution_count": null,
      "metadata": {
        "colab": {
          "base_uri": "https://localhost:8080/",
          "height": 46
        },
        "id": "W_YH07OE9J9r",
        "outputId": "1764e968-084e-4ef1-e569-1acba4927d93"
      },
      "outputs": [
        {
          "data": {
            "text/markdown": [
              "Google Cloudの2023年のRevenueは33,088百万ドルで、2024年は43,229百万ドルです。"
            ],
            "text/plain": [
              "<IPython.core.display.Markdown object>"
            ]
          },
          "execution_count": 31,
          "metadata": {},
          "output_type": "execute_result"
        }
      ],
      "source": [
        "#generate_content()利用\n",
        "#response = client.models.generate_content(model=MODEL_ID, contents=[\n",
        "#Chat API利用\n",
        "chat = client.chats.create(model=MODEL_ID)\n",
        "response = chat.send_message([\n",
        "    Part.from_bytes(data=pdfFile, mime_type=\"application/pdf\"),\n",
        "    Part.from_text(text=PROMPT),\n",
        "])\n",
        "Markdown(response.text)"
      ]
    },
    {
      "cell_type": "markdown",
      "metadata": {
        "id": "cPInk9qc_Qxj"
      },
      "source": [
        "## Google Search による Grounding\n",
        "\n",
        "次は、Google Search で Grounding した回答を取得します。\n",
        "\n",
        "Gemini による回答だけでなく、検索によって参照した関連情報も確認することが可能です。"
      ]
    },
    {
      "cell_type": "code",
      "execution_count": null,
      "metadata": {
        "colab": {
          "base_uri": "https://localhost:8080/",
          "height": 250
        },
        "id": "2lN-Cok7Tvcx",
        "outputId": "e5951b0f-2359-4af7-9d38-167b0331a372"
      },
      "outputs": [
        {
          "data": {
            "text/markdown": [
              "Google Cloud の収益について、2023年と2024年の情報が見つかりました。\n",
              "\n",
              "**2023年**\n",
              "\n",
              "*   通年の収益は331億ドルでした。\n",
              "*   第4四半期の収益は、前年同期比で26%増加しました。\n",
              "\n",
              "**2024年**\n",
              "\n",
              "*   通年の収益は480億ドルでした。\n",
              "*   第4四半期の収益は120億ドルで、前年同期比で30%増加しました。\n",
              "*   Google CloudとYouTubeを合わせた年間収益は1,100億ドルの規模に達しました。\n",
              "\n",
              "2024年は、Google Cloudにとって非常に成長の著しい年であり、特にAI関連のサービスが大きく貢献しました。\n"
            ],
            "text/plain": [
              "<IPython.core.display.Markdown object>"
            ]
          },
          "execution_count": 32,
          "metadata": {},
          "output_type": "execute_result"
        }
      ],
      "source": [
        "google_search_tool = Tool(google_search=GoogleSearch())\n",
        "\n",
        "#response = client.models.generate_content(model=MODEL_ID, contents=PROMPT, config=GenerateContentConfig(tools=[google_search_tool]))\n",
        "chat = client.chats.create(model=MODEL_ID, config=GenerateContentConfig(tools=[google_search_tool]))\n",
        "response = chat.send_message(PROMPT)\n",
        "\n",
        "Markdown(response.text)"
      ]
    },
    {
      "cell_type": "code",
      "execution_count": null,
      "metadata": {
        "colab": {
          "base_uri": "https://localhost:8080/",
          "height": 224
        },
        "id": "WmpmzweIGyra",
        "outputId": "5c131306-d967-4901-819c-7cacfecccdad"
      },
      "outputs": [
        {
          "name": "stdout",
          "output_type": "stream",
          "text": [
            "retrieved_context=None web=GroundingChunkWeb(title='crn.com', uri='https://vertexaisearch.cloud.google.com/grounding-api-redirect/AWQVqALWrrEbp_lkhGkgiVNid11cI3BDyZZ90FogiLhspJmKco1KiA9bhUoeEOtWWMZwuCsjNnfqr4NtPdIE3PXX2PfZ9aOsmWPuqshrQo8hUIspU2zOSuuLfm39AC1LQC0GYCquE2ns8CYIZ7iXatS1v_8Fl9mrBDMxzSSXxDWhgiLgxEONw6XUxnTpAU15KYImQcnry6vDBBSOAm4=')\n",
            "retrieved_context=None web=GroundingChunkWeb(title='mobileworldlive.com', uri='https://vertexaisearch.cloud.google.com/grounding-api-redirect/AWQVqAJmBnBWgUE14J0GlAcndbRafAKcBtjeSAe2qGGKF5UG67d4PCJTBCRaahE6gzL90-oOvVgevu6mRdzNv4ZUqXi6vxSngLwV7qVM5u7D-_mJH3D_AqI_LgYTUjcxWB4dcAfgIw0UlJpRx8XVmq92stelGU4HNeAv6MrlG0Qaz6_SyNG4mwtPEg==')\n",
            "retrieved_context=None web=GroundingChunkWeb(title='crn.com', uri='https://vertexaisearch.cloud.google.com/grounding-api-redirect/AWQVqAI_LPWSVC8vTG_NhIPQebsYo5o7YzV6YSpFIGCBies4LrCl_qEPjt71Q0wffWA9_n5icZ7PMppAUw4YQepERNG1FuWy7UbFmYo8OSofPSLBzI-X5lytU_DXcOQIhmseC9k_bdWLeONQKEQZimt6rPUbNIYFUX-JDm72JgXDawN3WGhKlUSd0rm65q1wRl6hQpggJxBqgjeAdB8=')\n",
            "retrieved_context=None web=GroundingChunkWeb(title='abc.xyz', uri='https://vertexaisearch.cloud.google.com/grounding-api-redirect/AWQVqAKlCbHWdOMEFbePKSmSGF_XR0TnngB68dBUKxGsy119jZ0PT7kFccOp4W97DyyIrdGc0yykm66Bz2wA4jeSARdljmsm5pMZvUXrjTsyiLkSYRqDKe0ImF2sYZiQYY1oxn68QxLwnJpQHuwk8CoKLkWfoH4eHh9loHsHjJSGAjcYfVzYvrL07us7FYBGXzEuI_M4qx_mrj0GqBU=')\n",
            "retrieved_context=None web=GroundingChunkWeb(title='hginsights.com', uri='https://vertexaisearch.cloud.google.com/grounding-api-redirect/AWQVqAJUDyhCjhR0cjHbpaYLV-gVfN9GQXPgZ9C7JM_G9i7zDiCRiMuJxfzIKVrRiq9W6WBVXYlIw4KJ21CDF9E_Jl8kRrcnaumyLashenOIBz2qbP2OHpSTv7HSbGbE-KVEx6OC7-uD7UFbbzWfOZHJD_cZ6v4eDQIrvA==')\n",
            "retrieved_context=None web=GroundingChunkWeb(title='cloudwars.com', uri='https://vertexaisearch.cloud.google.com/grounding-api-redirect/AWQVqALY9ZPRb65T9U5FpAogRNgXHBWELWdcMPEfSInJfETQnV48N5BdVsO005cs6hlcIR_VFQr5TS5nipmai1tILiz2trjJhPkA20iKbJlOUXQf9prXYxbcR-qG6gGjMQqIrEe85d_xPS8hXNUZNc0xWqtSrnExoNx-cxfQXVBtOxJE4qB0NOuF6Knl1lDEZxNVfsu5QS-Cu1N1gnRyn4tpdJbPKFvXUFSIOpE=')\n",
            "retrieved_context=None web=GroundingChunkWeb(title='datacenterdynamics.com', uri='https://vertexaisearch.cloud.google.com/grounding-api-redirect/AWQVqAKI7gZvF-3Rk4HXFIfctUA66pce3232IoFZZ1PuUoNrNze_RYcIMS6BXHhDdyJJw_0n4Lrv-u46CY4VLQu42GuNP2sEbJOYZQ4hEf29qsvqSYfLVhNRzQO_hBG5T5McjjGoZSL8ZEu1bwaJvo1T-dTZejqEwbFXrEx3eJbAH42tuNtkVPodUPSNtt-_obASOlnEgp_LTXkjwaMBUv92QiIGlO-MRtvJg0sUFpkiREYBpXVBoZ7rSDEc')\n",
            "retrieved_context=None web=GroundingChunkWeb(title='canalys.com', uri='https://vertexaisearch.cloud.google.com/grounding-api-redirect/AWQVqAKnsy9hA1193eBVGVTbE7Q5LbqyW7MkyNsHq1Jwr5IEnH4NZBQsFFwulH5EDlZ_pBSudVBAVoqvXK9ZqVGzteMMTqIo0viIBJnWfAWO8LHy8NAo3ztVoIgdiN03KFihOcEIS8n4P2WIo_qrz5ZwGct60PGZ4GANAA==')\n",
            "retrieved_context=None web=GroundingChunkWeb(title='computerweekly.com', uri='https://vertexaisearch.cloud.google.com/grounding-api-redirect/AWQVqALaQvHg0GrH1LrdJXgYPwM91snzCIalUR05Fh3Ny9hAJJTnrUcWdQ-0CJ4RQQkUKB79e_cicnRheW-GrZ5yn7cjdIrUoYRPAJv9LXsbJvw9KeO_KguKqtl_Ksxs4mHAYPlg5Z-afunUAnDMxZMPdkP6te-pO5bsl2H6C6F_iwdxz97kPB-ZOmc1qUX8hxc81_OUEaiu9JKLpwK3m-IbA-tRKeyw9zdpmbWY')\n"
          ]
        },
        {
          "data": {
            "text/html": [
              "<style>\n",
              ".container {\n",
              "  align-items: center;\n",
              "  border-radius: 8px;\n",
              "  display: flex;\n",
              "  font-family: Google Sans, Roboto, sans-serif;\n",
              "  font-size: 14px;\n",
              "  line-height: 20px;\n",
              "  padding: 8px 12px;\n",
              "}\n",
              ".chip {\n",
              "  display: inline-block;\n",
              "  border: solid 1px;\n",
              "  border-radius: 16px;\n",
              "  min-width: 14px;\n",
              "  padding: 5px 16px;\n",
              "  text-align: center;\n",
              "  user-select: none;\n",
              "  margin: 0 8px;\n",
              "  -webkit-tap-highlight-color: transparent;\n",
              "}\n",
              ".carousel {\n",
              "  overflow: auto;\n",
              "  scrollbar-width: none;\n",
              "  white-space: nowrap;\n",
              "  margin-right: -12px;\n",
              "}\n",
              ".headline {\n",
              "  display: flex;\n",
              "  margin-right: 4px;\n",
              "}\n",
              ".gradient-container {\n",
              "  position: relative;\n",
              "}\n",
              ".gradient {\n",
              "  position: absolute;\n",
              "  transform: translate(3px, -9px);\n",
              "  height: 36px;\n",
              "  width: 9px;\n",
              "}\n",
              "@media (prefers-color-scheme: light) {\n",
              "  .container {\n",
              "    background-color: #fafafa;\n",
              "    box-shadow: 0 0 0 1px #0000000f;\n",
              "  }\n",
              "  .headline-label {\n",
              "    color: #1f1f1f;\n",
              "  }\n",
              "  .chip {\n",
              "    background-color: #ffffff;\n",
              "    border-color: #d2d2d2;\n",
              "    color: #5e5e5e;\n",
              "    text-decoration: none;\n",
              "  }\n",
              "  .chip:hover {\n",
              "    background-color: #f2f2f2;\n",
              "  }\n",
              "  .chip:focus {\n",
              "    background-color: #f2f2f2;\n",
              "  }\n",
              "  .chip:active {\n",
              "    background-color: #d8d8d8;\n",
              "    border-color: #b6b6b6;\n",
              "  }\n",
              "  .logo-dark {\n",
              "    display: none;\n",
              "  }\n",
              "  .gradient {\n",
              "    background: linear-gradient(90deg, #fafafa 15%, #fafafa00 100%);\n",
              "  }\n",
              "}\n",
              "@media (prefers-color-scheme: dark) {\n",
              "  .container {\n",
              "    background-color: #1f1f1f;\n",
              "    box-shadow: 0 0 0 1px #ffffff26;\n",
              "  }\n",
              "  .headline-label {\n",
              "    color: #fff;\n",
              "  }\n",
              "  .chip {\n",
              "    background-color: #2c2c2c;\n",
              "    border-color: #3c4043;\n",
              "    color: #fff;\n",
              "    text-decoration: none;\n",
              "  }\n",
              "  .chip:hover {\n",
              "    background-color: #353536;\n",
              "  }\n",
              "  .chip:focus {\n",
              "    background-color: #353536;\n",
              "  }\n",
              "  .chip:active {\n",
              "    background-color: #464849;\n",
              "    border-color: #53575b;\n",
              "  }\n",
              "  .logo-light {\n",
              "    display: none;\n",
              "  }\n",
              "  .gradient {\n",
              "    background: linear-gradient(90deg, #1f1f1f 15%, #1f1f1f00 100%);\n",
              "  }\n",
              "}\n",
              "</style>\n",
              "<div class=\"container\">\n",
              "  <div class=\"headline\">\n",
              "    <svg class=\"logo-light\" width=\"18\" height=\"18\" viewBox=\"9 9 35 35\" fill=\"none\" xmlns=\"http://www.w3.org/2000/svg\">\n",
              "      <path fill-rule=\"evenodd\" clip-rule=\"evenodd\" d=\"M42.8622 27.0064C42.8622 25.7839 42.7525 24.6084 42.5487 23.4799H26.3109V30.1568H35.5897C35.1821 32.3041 33.9596 34.1222 32.1258 35.3448V39.6864H37.7213C40.9814 36.677 42.8622 32.2571 42.8622 27.0064V27.0064Z\" fill=\"#4285F4\"/>\n",
              "      <path fill-rule=\"evenodd\" clip-rule=\"evenodd\" d=\"M26.3109 43.8555C30.9659 43.8555 34.8687 42.3195 37.7213 39.6863L32.1258 35.3447C30.5898 36.3792 28.6306 37.0061 26.3109 37.0061C21.8282 37.0061 18.0195 33.9811 16.6559 29.906H10.9194V34.3573C13.7563 39.9841 19.5712 43.8555 26.3109 43.8555V43.8555Z\" fill=\"#34A853\"/>\n",
              "      <path fill-rule=\"evenodd\" clip-rule=\"evenodd\" d=\"M16.6559 29.8904C16.3111 28.8559 16.1074 27.7588 16.1074 26.6146C16.1074 25.4704 16.3111 24.3733 16.6559 23.3388V18.8875H10.9194C9.74388 21.2072 9.06992 23.8247 9.06992 26.6146C9.06992 29.4045 9.74388 32.022 10.9194 34.3417L15.3864 30.8621L16.6559 29.8904V29.8904Z\" fill=\"#FBBC05\"/>\n",
              "      <path fill-rule=\"evenodd\" clip-rule=\"evenodd\" d=\"M26.3109 16.2386C28.85 16.2386 31.107 17.1164 32.9095 18.8091L37.8466 13.8719C34.853 11.082 30.9659 9.3736 26.3109 9.3736C19.5712 9.3736 13.7563 13.245 10.9194 18.8875L16.6559 23.3388C18.0195 19.2636 21.8282 16.2386 26.3109 16.2386V16.2386Z\" fill=\"#EA4335\"/>\n",
              "    </svg>\n",
              "    <svg class=\"logo-dark\" width=\"18\" height=\"18\" viewBox=\"0 0 48 48\" xmlns=\"http://www.w3.org/2000/svg\">\n",
              "      <circle cx=\"24\" cy=\"23\" fill=\"#FFF\" r=\"22\"/>\n",
              "      <path d=\"M33.76 34.26c2.75-2.56 4.49-6.37 4.49-11.26 0-.89-.08-1.84-.29-3H24.01v5.99h8.03c-.4 2.02-1.5 3.56-3.07 4.56v.75l3.91 2.97h.88z\" fill=\"#4285F4\"/>\n",
              "      <path d=\"M15.58 25.77A8.845 8.845 0 0 0 24 31.86c1.92 0 3.62-.46 4.97-1.31l4.79 3.71C31.14 36.7 27.65 38 24 38c-5.93 0-11.01-3.4-13.45-8.36l.17-1.01 4.06-2.85h.8z\" fill=\"#34A853\"/>\n",
              "      <path d=\"M15.59 20.21a8.864 8.864 0 0 0 0 5.58l-5.03 3.86c-.98-2-1.53-4.25-1.53-6.64 0-2.39.55-4.64 1.53-6.64l1-.22 3.81 2.98.22 1.08z\" fill=\"#FBBC05\"/>\n",
              "      <path d=\"M24 14.14c2.11 0 4.02.75 5.52 1.98l4.36-4.36C31.22 9.43 27.81 8 24 8c-5.93 0-11.01 3.4-13.45 8.36l5.03 3.85A8.86 8.86 0 0 1 24 14.14z\" fill=\"#EA4335\"/>\n",
              "    </svg>\n",
              "    <div class=\"gradient-container\"><div class=\"gradient\"></div></div>\n",
              "  </div>\n",
              "  <div class=\"carousel\">\n",
              "    <a class=\"chip\" href=\"https://vertexaisearch.cloud.google.com/grounding-api-redirect/AWQVqAJznbnfAmsXIYTqk3QWLP_RItOyTPZ6RHlJgadgBVDcyxdqgq86ZvjyLOiUSBwbrqGR-LWJhaymyzop86dgMmxYmvzb8tJXJoWU5oMElnIaf0zLdej6oG1kcM6J-ebGS_HbUoFFOqSCgtt2PXnS5bxraj2CxhGrWuh3T3xvtzde5HPVm1nIxG9ZtJt_22kpP_-PW4v7xcQWFix07PA=\">Google Cloud revenue 2024</a>\n",
              "    <a class=\"chip\" href=\"https://vertexaisearch.cloud.google.com/grounding-api-redirect/AWQVqAKkIl6vn2BZU5C-Vh3MMjdcxzaYEUdj4TxhWyReaGEWDaA9Pd3k5nmrhSDKLrY7KClRZk6fhNwH4xixkrBSFRmYh9pnzinDx56AnLfj-i5J6pFOIMq8N3d-UvPXDrRtAjVTc4BmojEYlVWTTkLBawukaCbDOiq5QI2PrY5h31BhjZLgAClEl8kLCv_tkAaZfP1BQfJRkiT6ujdrPfc=\">Google Cloud revenue 2023</a>\n",
              "  </div>\n",
              "</div>\n"
            ],
            "text/plain": [
              "<IPython.core.display.HTML object>"
            ]
          },
          "execution_count": 33,
          "metadata": {},
          "output_type": "execute_result"
        }
      ],
      "source": [
        "for groundingChunk in response.candidates[0].grounding_metadata.grounding_chunks:\n",
        "    print(groundingChunk)\n",
        "\n",
        "HTML(response.candidates[0].grounding_metadata.search_entry_point.rendered_content)"
      ]
    },
    {
      "cell_type": "markdown",
      "metadata": {
        "id": "38psT1aVAJGw"
      },
      "source": [
        "## Vertex AI Search による Grounding\n",
        "\n",
        "次は、Vertex AI Search で Grounding した回答を取得します。\n",
        "\n",
        "最初に Cloud Storage にバケットを作成し、回答させたいコンテンツを含む PDF ファイルをアップロードしておきます。\n",
        "\n",
        "Vertex AI Search の「[検索データストアを作成する - Cloud Storage からインポートする](https://cloud.google.com/generative-ai-app-builder/docs/create-data-store-es?hl=ja#cloud-storage)」の手順に従って Vertex AI Search のデータストアをセットアップします。インデックスの作成にしばらく時間がかかります。Vertex AI Search の検索アプリを同時に作成した場合は、プレビュー機能で検索が行えるか確認することが可能です。\n",
        "\n",
        "最後に、Cloud Console の Agent Builder - データストア より、作成したデータストアの ID を確認し、以下の変数に定義します。"
      ]
    },
    {
      "cell_type": "code",
      "execution_count": null,
      "metadata": {
        "id": "KeSjsJTDXlLe"
      },
      "outputs": [],
      "source": [
        "DATA_STORE_LOCATION = \"global\"\n",
        "DATA_STORE_ID = \"<datastore_id>\"  # @param {type: \"string\"}"
      ]
    },
    {
      "cell_type": "markdown",
      "metadata": {
        "id": "9ezxnUbmCfrd"
      },
      "source": [
        "Gemini 自身による回答だけでなく、Vertex AI Search から取得した内容で回答できていることを確認します。"
      ]
    },
    {
      "cell_type": "code",
      "execution_count": null,
      "metadata": {
        "colab": {
          "base_uri": "https://localhost:8080/",
          "height": 87
        },
        "id": "BDMfs_ryXjJQ",
        "outputId": "6ad6026c-df78-4524-bf42-8f5b20e7df54"
      },
      "outputs": [
        {
          "data": {
            "text/markdown": [
              "Google Cloudの収益は以下の通りです。\n",
              "\n",
              "*   **2023年:** 330億8800万ドル\n",
              "*   **2024年:** 432億2900万ドル"
            ],
            "text/plain": [
              "<IPython.core.display.Markdown object>"
            ]
          },
          "execution_count": 17,
          "metadata": {},
          "output_type": "execute_result"
        }
      ],
      "source": [
        "vertex_ai_search_tool = Tool(\n",
        "    retrieval=Retrieval(\n",
        "        vertex_ai_search=VertexAISearch(\n",
        "            datastore=f\"projects/{PROJECT_ID}/locations/{DATA_STORE_LOCATION}/collections/default_collection/dataStores/{DATA_STORE_ID}\"\n",
        "        )\n",
        "    )\n",
        ")\n",
        "\n",
        "#response = client.models.generate_content(model=MODEL_ID, contents=PROMPT, config=GenerateContentConfig(tools=[vertex_ai_search_tool]))\n",
        "chat = client.chats.create(model=MODEL_ID, config=GenerateContentConfig(tools=[vertex_ai_search_tool]))\n",
        "response = chat.send_message(PROMPT)\n",
        "\n",
        "Markdown(response.text)"
      ]
    },
    {
      "cell_type": "markdown",
      "metadata": {
        "id": "8Zmq3rjhHDGz"
      },
      "source": [
        "また、回答作成時に参照した関連情報も確認することが可能です。"
      ]
    },
    {
      "cell_type": "code",
      "execution_count": null,
      "metadata": {
        "colab": {
          "base_uri": "https://localhost:8080/"
        },
        "id": "vbj3Wif-G87X",
        "outputId": "a3d0430b-7a6c-45eb-cf49-3a71f1c4ed74"
      },
      "outputs": [
        {
          "name": "stdout",
          "output_type": "stream",
          "text": [
            "retrieved_context=GroundingChunkRetrievedContext(text='Google subscriptions, platforms, and devices\\nGoogle subscriptions, platforms, and devices revenues increased $5.7 billion from 2023 to 2024. The growth was\\nprimarily driven by an increase in subscription revenues, largely from growth in the number of paid subscribers for\\nYouTube services followed by Google One. Google Cloud\\nGoogle Cloud revenues increased $10.1 billion from 2023 to 2024 primarily driven by growth in Google Cloud\\nPlatform largely from infrastructure services. Revenues by Geography\\nThe following table presents revenues by geography as a percentage of revenues, determined based on the\\naddresses of our customers: Year Ended December 31,\\n2023 2024 United States 47 % 49 % EMEA 30 % 29 % APAC 17 % 16 % Other Americas 6 % 6 % Hedging gains (losses) 0 % 0 % For additional information, see Note 2 of the Notes to Consolidated Financial Statements included in Item 8 of this\\nAnnual Report on Form 10-K.\\nUse of Non-GAAP Constant Currency Information\\nInternational revenues, which represent a significant portion of our revenues, are generally transacted in multiple\\ncurrencies and therefore are affected by fluctuations in foreign currency exchange rates. The effect of currency exchange rates on our business is an important factor in understanding period-to-period\\ncomparisons. \\n...\\nNote 2. Revenues\\nDisaggregated Revenues\\nThe following table presents revenues disaggregated by type (in millions): Year Ended December 31,\\n2022 2023 2024 Google Search & other $ 162,450 $ 175,033 $ 198,084 YouTube ads 29,243 31,510 36,147 Google Network 32,780 31,312 30,359 Google advertising 224,473 237,855 264,590 Google subscriptions, platforms, and devices 29,055 34,688 40,340 Google Services total 253,528 272,543 304,930 Google Cloud 26,280 33,088 43,229 Other Bets 1,068 1,527 1,648 Hedging gains (losses) 1,960 236 211 Total revenues $ 282,836 $ 307,394 $ 350,018\\nNo individual customer or groups of affiliated customers represented more than 10% of our revenues in 2022,\\n2023, or 2024. The following table presents revenues disaggregated by geography, based on the addresses of our customers (in\\nmillions): Year Ended December 31, 2022 2023 2024 United States $ 134,814 48 % $ 146,286 47 % $ 170,447 49 % EMEA(1) 82,062 29 91,038 30 102,127 29 APAC(1) 47,024 16 51,514 17 56,815 16 Other Americas(1) 16,976 6 18,320 6 20,418 6 Hedging gains (losses) 1,960 1 236 0 211 0 Total revenues $ 282,836 100 % $ 307,394 100 % $ 350,018 100 % (1) Regions represent Europe, the Middle East, and Africa (EMEA); Asia-Pacific (APAC); and Canada and Latin America (\"Other\\nAmericas\"). \\n...\\nRevenue Backlog\\nAs of December 31, 2024, we had $93.2 billion of remaining performance obligations (“revenue backlog”),\\nprimarily related to Google Cloud. Revenue backlog represents commitments in customer contracts for future services\\nthat have not yet been recognized as revenue. We expect to recognize approximately half of the revenue backlog as\\nrevenues over the next 24 months with the remainder to be recognized thereafter. The estimated revenue backlog and\\ntiming of revenue recognition for these commitments is largely driven by our ability to deliver in accordance with\\nrelevant contract terms and when our customers utilize services. Revenue backlog includes related deferred revenue\\ncurrently recorded as well as amounts that will be invoiced in future periods, and excludes contracts with an original\\nexpected term of one year or less and cancellable contracts. Deferred Revenues\\nWe record deferred revenues when cash payments are received or due in advance of our performance, including\\namounts which are refundable. Deferred revenues primarily relate to Google Cloud and Google subscriptions,\\nplatforms, and devices. Total deferred revenue as of December 31, 2023 was $5.0 billion, of which $3.9 billion was\\nrecognized as revenues for the year ended December 31, 2024. Total deferred revenue as of December 31, 2024 was\\n$6.0 billion. Note 3. Financial Instruments Table of Contents Alphabet Inc. 64. ', title='GOOG 10-K 2024', uri='gs://gab-upload/goog/goog-10-k-2024.pdf') web=None\n",
            "retrieved_context=GroundingChunkRetrievedContext(text='Segment Results\\nThe following table presents our segment revenues and operating income (loss) (in millions; unaudited):\\nQuarter Ended December 31,\\n2022 2023 Revenues:\\nGoogle Services $ 67,838 $ 76,311 Google Cloud 7,315 9,192 Other Bets 226 657 Hedging gains (losses) 669 150 Total revenues $ 76,048 $ 86,310 Operating income (loss):\\nGoogle Services $ 20,222 $ 26,730 Google Cloud (186) 864 Other Bets (1,237) (863) Alphabet-level activities (639) (3,034) Total income from operations $ 18,160 $ 23,697 We report our segment results as Google Services, Google Cloud, and Other Bets: Google Services includes products and services such as ads, Android, Chrome, devices, Google Maps,\\nGoogle Play, Search, and YouTube. Google Services generates revenues primarily from advertising; fees\\nreceived for consumer subscription-based products such as YouTube TV, YouTube Music and Premium,\\nand NFL Sunday Ticket; the sale of apps and in-app purchases and devices. Google Cloud includes infrastructure and platform services, collaboration tools, and other services for\\nenterprise customers. Google Cloud generates revenues primarily from consumption-based fees and\\nsubscriptions received for Google Cloud Platform services, Google Workspace communication and\\ncollaboration tools, and other enterprise services. Other Bets is a combination of multiple operating segments that are not individually material. \\n...\\nQ4 2023 Supplemental Information (in millions, except for number of employees; unaudited)\\nRevenues, Traffic Acquisition Costs (TAC), and Number of Employees Quarter Ended December 31,\\n2022 2023 Google Search & other $ 42,604 $ 48,020 YouTube ads 7,963 9,200 Google Network 8,475 8,297 Google advertising 59,042 65,517 Google subscriptions, platforms, and devices(1) 8,796 10,794 Google Services total 67,838 76,311 Google Cloud 7,315 9,192 Other Bets 226 657 Hedging gains (losses) 669 150 Total revenues $ 76,048 $ 86,310 Total TAC $ 12,925 $ 13,986 Number of employees 190,234 182,502 (1) Formerly “Google other.” Segment Operating Results Quarter Ended December 31,\\n2022 2023 Operating income (loss):\\nGoogle Services $ 20,222 $ 26,730 Google Cloud (186) 864 Other Bets (1,237) (863) Alphabet-level activities(1) (639) (3,034) Total income from operations $ 18,160 $ 23,697 (1) Formerly “corporate costs, unallocated.” In addition to the costs included in Alphabet-level activities, hedging gains (losses)\\nrelated to revenue were $669 million and $150 million for the three months ended December 31, 2022 and 2023,\\nrespectively. ', title='2023q4-alphabet-earnings-release', uri='gs://gab-upload/goog/2023q4-alphabet-earnings-release.pdf') web=None\n",
            "retrieved_context=GroundingChunkRetrievedContext(text=\"Google subscriptions, platforms, and devices revenues increased $1.0 billion from 2021 to 2022 primarily driven\\nby growth in subscription and device revenues, partially offset by a decrease in platform revenues. The growth in\\nsubscriptions was largely for YouTube services, primarily due to an increase in paid subscribers. The growth in device\\nrevenues was primarily driven by increased sales of Pixel devices. The decrease in platform revenues was primarily\\ndue to Google Play, driven by the fee structure changes we announced in 2021 as well as a decrease in buyer\\nspending. Additionally, the overall increase in Google subscriptions, platforms, and devices revenues was adversely\\naffected by the unfavorable effect of foreign currency exchange rates. Google Cloud\\nGoogle Cloud revenues increased $6.8 billion from 2022 to 2023. Growth was primarily driven by Google Cloud\\nPlatform followed by Google Workspace offerings. Google Cloud's infrastructure and platform services were the largest\\ndrivers of growth in Google Cloud Platform. Revenues by Geography\\nThe following table presents revenues by geography as a percentage of revenues, determined based on the\\naddresses of our customers: Year Ended December 31,\\n2022 2023 United States 48 % 47 % EMEA 29 % 30 % APAC 16 % 17 % Other Americas 6 % 6 % Hedging gains (losses) 1 % 0 % \\n...\\nIn addition, for the year ended\\nDecember 31, 2023, we incurred $269 million in accelerated rent and accelerated depreciation. For additional information\\nrelating to our workforce reduction and other initiatives, see Note 8 of the Notes to Consolidated Financial Statements included\\nin Item 8 of this Annual Report on Form 10-K. For additional information relating to our segments, see Note 15 of the Notes to\\nConsolidated Financial Statements included in Item 8 of this Annual Report on Form 10-K.\\nGoogle Services\\nGoogle Services operating income increased $13.2 billion from 2022 to 2023. The increase in operating income\\nwas primarily driven by an increase in revenues, partially offset by an increase in content acquisition costs and\\ncompensation expenses including an increase in SBC expense. Additionally, operating income benefited from a\\nreduction in costs driven by the change in the estimated useful lives of our servers and certain network equipment. Google Cloud\\nGoogle Cloud operating income of $1.7 billion for 2023 compared to an operating loss of $1.9 billion for 2022\\nrepresents an increase of $3.6 billion. The increase in operating income was primarily driven by an increase in\\nrevenues, partially offset by an increase in compensation expenses largely driven by headcount growth. Additionally,\\noperating income benefited from a reduction in costs driven by the change in the estimated useful lives of our servers\\nand certain network equipment. \\n...\\nGeneral and Administrative\\nThe following table presents general and administrative expenses (in millions, except percentages): Year Ended December 31,\\n2022 2023 General and administrative expenses $ 15,724 $ 16,425 General and administrative expenses as a percentage of revenues 6 % 5 %\\nGeneral and administrative expenses increased $701 million from 2022 to 2023, primarily driven by an increase in\\ncompensation expenses of $416 million, which was largely the result of $264 million in employee severance charges\\nassociated with the reduction in our workforce in addition to a combination of other factors, none of which were\\nindividually significant. Segment Profitability\\nThe following table presents segment operating income (loss) (in millions). Year Ended December 31,\\n2022 2023 Operating income (loss):\\nGoogle Services $ 82,699 $ 95,858 Google Cloud (1,922) 1,716 Other Bets (4,636) (4,095) Alphabet-level activities(1) (1,299) (9,186) Total income from operations $ 74,842 $ 84,293 (1) In addition to the costs included in Alphabet-level activities, hedging gains (losses) related to revenue were $2.0 billion and\\n$236 million in 2022 and 2023, respectively. For the year ended December 31, 2023, Alphabet-level activities include charges\\nrelated to the reduction in force and our office space optimization efforts totaling $3.9 billion. \", title='goog-10-k-2023', uri='gs://gab-upload/goog/goog-10-k-2023.pdf') web=None\n",
            "retrieved_context=GroundingChunkRetrievedContext(text='Impressions and cost-per-impression\\nThe following table presents changes in impressions and cost-per-impression (expressed as a percentage) from the three months ended March 31, 2022 to the three months ended March 31, 2023:\\nImpressions change (5)% Cost-per-impression change (5)%\\nImpressions decreased from the three months ended March 31, 2022 to the three months ended March 31,\\n2023 driven by Google Ad Manager and AdSense. The decrease in cost-per-impression from the three months\\nended March 31, 2022 to the three months ended March 31, 2023 was driven by a number of interrelated factors\\nincluding ongoing product and policy changes, changes in device mix, geographic mix, product mix, and property\\nmix, as well as the adverse effect of changes in foreign currency exchange rates. Google other revenues\\nGoogle other revenues increased $602 million from the three months ended March 31, 2022 to the three\\nmonths ended March 31, 2023 primarily driven by growth in YouTube non-advertising, largely due to an increase in\\npaid subscribers. Growth was adversely affected by changes in foreign currency exchange rates. Google Cloud\\nGoogle Cloud revenues increased $1.6 billion from the three months ended March 31, 2022 to the three\\nmonths ended March 31, 2023. Growth was primarily driven by Google Cloud Platform followed by Google\\nWorkspace offerings. ', title='GOOG 10-Q Q1 2023', uri='gs://gab-upload/goog/20230426-alphabet-10q.pdf') web=None\n",
            "retrieved_context=GroundingChunkRetrievedContext(text='Google Services\\nGoogle Services operating income increased $1.8 billion from the three months ended June 30, 2022 to the\\nthree months ended June 30, 2023 and increased $1.6 billion from the six months ended June 30, 2022 to the six\\nmonths ended June 30, 2023. The increase in operating income was primarily driven by an increase in revenues,\\npartially offset by an increase in compensation expenses and content acquisition costs. Additionally, operating\\nincome benefited from a reduction in costs driven by the change in the estimated useful lives of our servers and\\ncertain network equipment. Google Cloud\\nGoogle Cloud operating income of $395 million for the three months ended June 30, 2023 compared to an\\noperating loss of $590 million for the three months ended June 30, 2022 represents an increase of $985 million. Operating income of $586 million for the six months ended June 30, 2023 compared to an operating loss of\\n$1.3 billion for the six months ended June 30, 2022 represents an increase of $1.9 billion. The increase in operating\\nincome was primarily driven by revenue growth, partially offset by an increase in compensation expenses. Additionally, operating income benefited from a reduction in costs driven by the change in the estimated useful lives\\nof our servers and certain network equipment. ', title='GOOG 10-Q Q2 2023', uri='gs://gab-upload/goog/goog-10-q-q2-2023-4.pdf') web=None\n"
          ]
        }
      ],
      "source": [
        "for groundingChunk in response.candidates[0].grounding_metadata.grounding_chunks:\n",
        "    print(groundingChunk)"
      ]
    },
    {
      "cell_type": "markdown",
      "metadata": {
        "id": "nCxB-oM4DCK5"
      },
      "source": [
        "## (option) LangChain を利用した RAG\n",
        "\n",
        "ここでは LangChain を利用して、Vertex AI Search を利用した Gemini による RAG サンプルを示します。\n",
        "\n",
        "最初に、Gemini の知識だけでの回答を確認します。"
      ]
    },
    {
      "cell_type": "code",
      "execution_count": null,
      "metadata": {
        "colab": {
          "base_uri": "https://localhost:8080/",
          "height": 93
        },
        "id": "54LjGMfrBAHM",
        "outputId": "4860552f-9627-4f93-9217-8d586b63b19d"
      },
      "outputs": [
        {
          "data": {
            "text/markdown": [
              "Google Cloud の Revenue は以下の通りです。\n",
              "\n",
              "*   **2023年:** 330億ドル（約4兆8000億円）\n",
              "\n",
              "*   **2024年第1四半期:** 95億7000万ドル（約1兆4800億円）"
            ],
            "text/plain": [
              "<IPython.core.display.Markdown object>"
            ]
          },
          "execution_count": 19,
          "metadata": {},
          "output_type": "execute_result"
        }
      ],
      "source": [
        "import vertexai\n",
        "from langchain_google_vertexai import ChatVertexAI\n",
        "\n",
        "vertexai.init(project=PROJECT_ID, location=\"us-central1\")\n",
        "\n",
        "llm = ChatVertexAI(model_name=MODEL_ID)\n",
        "response = llm.invoke(PROMPT)\n",
        "Markdown(response.content)"
      ]
    },
    {
      "cell_type": "markdown",
      "metadata": {
        "id": "SP5ILwViDjWq"
      },
      "source": [
        "Vertex AI Search のラッパーである VertexAISearchRetriever の動きを確認します。\n"
      ]
    },
    {
      "cell_type": "code",
      "execution_count": null,
      "metadata": {
        "colab": {
          "base_uri": "https://localhost:8080/"
        },
        "id": "nkKFrA46CpcM",
        "outputId": "fed89e79-3328-494f-ab5e-4d3154770286"
      },
      "outputs": [
        {
          "name": "stderr",
          "output_type": "stream",
          "text": [
            "/usr/local/lib/python3.11/dist-packages/langchain_google_community/vertex_ai_search.py:364: UserWarning: Beta features are configured but beta=False. The following beta features will be ignored:['custom_embedding_ratio']\n",
            "  warnings.warn(\n"
          ]
        },
        {
          "name": "stdout",
          "output_type": "stream",
          "text": [
            "page_content='AWS サービスや Azure サービスと <b>Google Cloud</b> を比較する最終更新日: <b>2023 年</b> 8 月 5 日次の表に、一般提供 (https://<b>cloud</b>.<b>google</b>.com/products?hl=ja#general-availability)の <b>Google Cloud</b> サービスと、それに対応するアマゾン ウェブ サービス（AWS）または Microsoft Azure のサービスを示します。この表は、サービスタイプ、機能、サービス名などのキーワードでフィルタできます。今後も最新の情報をお届けするために、をお寄せください。 サービス カテゴリサービスタイプ <b>Google Cloud</b> プロダクト<b>Google Cloud</b> サービスの概要AWS サービスAzure サービスAI &amp; ML <b>クラウド</b>費用の最適化Recommender (https://<b>cloud</b>.<b>google</b>.com/recommender?hl=ja) プロアクティブで容易に実行可能な推奨事項を提示することで、 <b>Google Cloud</b> の使用量を最適化します。 AWS 費用の最適化Azure Cost Management AI &amp; ML 会話型インターフェースDialogflow (https://<b>cloud</b>.<b>google</b>.com/dialogflow?hl=ja) 最先端の仮想エージェントを備えた、自然な会話を実現する AI。 Amazon Lex Azure Conversational AI AI &amp; ML ドキュメントの理解Document AI (https://<b>cloud</b>.<b>google</b>.com/document-ai?hl=ja) 大規模なデータ キャプチャを自動化してドキュメントの処理費用を削減します。 Amazon Textract Azure Form Recognizer AI &amp; ML 画像認識Vision AI (https://<b>cloud</b>.<b>google</b>.com/vision?hl=ja) <b>クラウド</b>やエッジにある画像からの分析情報の引き出しや、トレーニング ...' metadata={'id': 'aee658a386c8e7db7a3004d97bae1b9e', 'source': 'gs://gab-upload/gcp/GCP-AWS-Azure service mapping.pdf1'}\n",
            "page_content='サービス カテゴリサービスタイプ <b>Google Cloud</b> プロダクト<b>Google Cloud</b> サービスの概要AWS サービスAzure サービスネットワーキングネットワーク接続 Private Service Connect (https://<b>cloud</b>.<b>google</b>.com/private-service-connect?hl=ja) VPC から <b>Google</b>、サードパーティ、または独自のサービスへの安全なプライベート接続を作成します。 AWS PrivateLink Azure Private Link ネットワーキングネットワーク モニタリングNetwork Intelligence Center (https://<b>cloud</b>.<b>google</b>.com/network-intelligence-center?hl=ja) ネットワーク モニタリング機能を一元化して、ネットワーク構成の検証、ネットワーク パフォーマンスの最適化、ネットワーク セキュリティの向上、トラブルシューティングの時間の削減を行います。 AWS Network Manager Azure Network Watcher ネットワーキングプレミアム ネットワーキングNetwork Service Tiers、プレミアム ティア (https://<b>cloud</b>.<b>google</b>.com/network-tiers?hl=ja) <b>Google</b> のグローバル ネットワークを使用した高パフォーマンスのネットワーク エクスペリエンス。 AWS Global Accelerator インターネット下り（Microsoft プレミアム グローバル ネットワーク経由のルーティング） ネットワーキングプレミアム ネットワーキングNetwork Service Tiers、スタンダード ティア (https://<b>cloud</b>.<b>google</b>.com/network-tiers?hl=ja) インターネット相当のパフォーマンスを備えたデータ転送のための費用対効果の高いネットワーク。 AWS データ転送インターネット下り（公共の ...' metadata={'id': 'aee658a386c8e7db7a3004d97bae1b9e', 'source': 'gs://gab-upload/gcp/GCP-AWS-Azure service mapping.pdf12'}\n",
            "page_content='サービス カテゴリサービスタイプ <b>Google Cloud</b> プロダクト<b>Google Cloud</b> サービスの概要AWS サービスAzure サービスデータ分析 メッセージ Pub/Sub Lite (https://<b>cloud</b>.<b>google</b>.com/pubsub/lite/docs?hl=ja) ゾーンのリアルタイム メッセージ サービスを使用して、個別のアプリケーション間でメッセージを送受信します。 Amazon Simple Notification Service、Amazon Simple Queueing Service Azure Service Bus メッセージングデータ分析 クエリサービス BigQuery (https://<b>cloud</b>.<b>google</b>.com/bigquery?hl=ja) ANSI SQL を使用してペタバイト規模のデータを大規模に分析し、 競合する<b>クラウド</b> データ ウェアハウスよりも 3 <b>年間</b>の総所有コスト（TCO）を 26%～34% 低減できます。 Amazon Redshift Spectrum Azure Synapse Analytics データ分析 ストリーム データ取り込みPub/Sub (https://<b>cloud</b>.<b>google</b>.com/pubsub?hl=ja) イベント ドリブン システムとストリーミング分析のためにスケーラブルなメッセージングと取り込みを作成します。 Amazon Kinesis Azure Event Hubs データ分析 ストリーム データ処理Dataflow (https://<b>cloud</b>.<b>google</b>.com/dataflow?hl=ja) ストリーム データとバッチデータの処理を統合し、サーバーレスかつ高速で、費用対効果の高い処理を実現します。 Amazon Kinesis Data Firehose Azure Stream Analytics データ分析 ワークフロー オーケストレーション<b>Cloud</b> Composer (https://<b>cloud</b>.<b>google</b>.com/composer? ...' metadata={'id': 'aee658a386c8e7db7a3004d97bae1b9e', 'source': 'gs://gab-upload/gcp/GCP-AWS-Azure service mapping.pdf10'}\n",
            "page_content='Note 2. Revenues Disaggregated Revenues The following table presents revenues disaggregated by type (in millions): Year Ended December 31, 2022 <b>2023 2024 Google</b> Search &amp; other $ 162450 $ 175033 $ 198084 YouTube ads 29243 31510 36147 <b>Google</b> Network 32780 31312 30359 <b>Google</b> advertising 224473 237855 264590 <b>Google</b> subscriptions, platforms, and devices 29055 34688 40340 <b>Google</b> Services total 253528 272543 304930 <b>Google Cloud</b> 26280 33088 43229 Other Bets 1068 1527 1648 Hedging gains (losses) 1960 236 211 Total revenues $ 282836 $ 307394 $ 350018 No individual customer or groups of affiliated customers represented more than 10% of our revenues in 2022, <b>2023</b>, or <b>2024</b>. The following table presents revenues disaggregated by geography, based on the addresses of our customers (in millions): Year Ended December 31, 2022 <b>2023 2024</b> United States $ 134814 48 % $ 146286 47 % $ 170447 49 % EMEA(1) 82062 ...' metadata={'id': '73cfd7784dd21a28353f6150d48ff6a3', 'source': 'gs://gab-upload/goog/goog-10-k-2024.pdf65'}\n",
            "page_content='<b>Google</b> subscriptions, platforms, and devices <b>Google</b> subscriptions, platforms, and devices revenues increased $5.7 billion from <b>2023</b> to <b>2024</b>. The growth was primarily driven by an increase in subscription revenues, largely from growth in the number of paid subscribers for YouTube services followed by <b>Google</b> One. <b>Google Cloud Google Cloud</b> revenues increased $10.1 billion from <b>2023</b> to <b>2024</b> primarily driven by growth in <b>Google Cloud</b> Platform largely from infrastructure services.' metadata={'id': '73cfd7784dd21a28353f6150d48ff6a3', 'source': 'gs://gab-upload/goog/goog-10-k-2024.pdf38'}\n",
            "page_content='These services provide access to solutions such as AI offerings including our AI infrastructure, Vertex AI platform, and Gemini for <b>Google Cloud</b>; cybersecurity; and data and analytics; • <b>Google</b> Workspace, which includes subscriptions for <b>cloud</b>-based communication and collaboration tools for enterprises, such as Calendar, Gmail, Docs, Drive, and Meet, with integrated features like Gemini for <b>Google</b> Workspace; and • other enterprise services.' metadata={'id': '73cfd7784dd21a28353f6150d48ff6a3', 'source': 'gs://gab-upload/goog/goog-10-k-2024.pdf34'}\n",
            "page_content='詳しく内容を知りたい方はこちらの動画をご視聴ください<b>Google Cloud</b> のサーバーレスプロダクトは、頻繁なアップデートにより機能が追加されていることが大きな特徴となる。特に <b>Cloud</b> Run と <b>Cloud</b> Functions は第 2 世代の実行環境を Preview 版として提供開始。より幅広いユースケースに対応する製品へと進化を遂げている。 <b>Cloud</b> Run の第 2 世代では、CPU とネットワークのパフォーマンス高速化を実現しているほか、ネットワークファイルシステムをサポート。VPC Access Connector 経由で VPC 内の Filestore にアクセスしたり、<b>Cloud</b> Storage FUSE を利用して<b>クラウド</b>ストレージをローカルファイルシステムのように扱うことも可能となっている。 また Secret Manager が統合され、API キーやパスワードなどの機密情報を安全に管理できるようになり、セキュリティの強化も実現。さらにバックグラウンド タスクや非同 期 処 理 に 有 効 な「Always on CPU」や、内 部Ingress に限定されたサービスを Workflows（定義した順序でサービスを実行するオーケストレーション プラットフォーム）から呼び出す機能も正式に実装されるなど、 性能強化とユースケースの拡大を図っている。 <b>Cloud</b> Functions の 第 2 世 代 は、前 述したとおり<b>Cloud</b> Run の実行基盤上で動かせるようになったことが最大の特徴といえる。「1 つの実行環境に同時実効性がなかったこと」「処理の実行時間に制限があり、10 分を超える処理が実行できない」「柔軟なトラフィック制御が行えない」といった第 1 世代の課題を解消。<b>Cloud</b> Run とEventarc（<b>Cloud</b> Storage や Pub / Sub、<b>Cloud</b> Audit Logs といったイベントをトリガーに <b>Cloud</b> Run などのエンドポイントを呼び出す製品）を基盤としたアーキテクチャにより同時実効性とコストの最適 ...' metadata={'id': '71e6f4a30958214ff02e2b3664ed9d6f', 'source': 'gs://gab-upload/gcp/Google_ebooks_all_0614.pdf14'}\n",
            "page_content='<b>Google Cloud</b> が展開する 3 つのサーバーレス製品最新アップデートで追加された注目機能を確認する3 つの実行環境と周辺プロダクトから見える <b>Google Cloud</b> のサーバーレス戦略市場のニーズに対応し、サーバーレス環境は進化を続けている。「<b>Cloud</b> Run」をはじめ、<b>Google Cloud</b> が提供するサーバーレスプロダクトの最新アップデートから、次世代サーバーレスのトレンドとメリットを紐解いていく。 頻繁なアップデートでユースケースを拡大する<b>Google Cloud</b> のサーバーレスプロダクトとはアプリケーション開発以上前から提供されている第 1 世代と、新しいバージョンの開発言語に対応した第 2 世代のスタンダード環境に加え、 コンテナを実行するフレキシブル環境も提供。昨今では第 2 世代へのマイグレーションを目的に、第 1 世代のみで採用されていた App Engine 専用の API の一部を第 2 世代環境の開発言語である Python 3、Java 11、Go 1.12＋で使えるようにするなど、最新ランタイムへのスムーズな移行を支援している。 次 世 代のサーバーレス製 品となる <b>Cloud</b> Run では、 gRPC や WebSocket などの通信もサポート。gRPC を利用したマイクロサービス間の通信も実現するなどマイクロサービス向きの製品となっており、さらにイベント駆動型のアーキテクチャにも対応する。コンテナ実行環境のため言語やライブラリの制約がなく、同じくコンテナ実行環境である App Engine のフレキシブル環境と比べ、スケール性能に優れているのが特徴。さらにマルチリージョンのサービス展開に対応しイベント駆動も可能と、サーバーレス製品に求められる機能を網羅している。 <b>Cloud</b> Functions は、イベント駆動で処理を動かしたり、プロダクト間のサービスを連携するような処理を関数で実行するニーズに対応するサーバーレス製品。 Preview 版がリリースされたばかりの第 2 世 代 で は、<b>Cloud</b> Run の実行基盤上で ...' metadata={'id': '71e6f4a30958214ff02e2b3664ed9d6f', 'source': 'gs://gab-upload/gcp/Google_ebooks_all_0614.pdf13'}\n",
            "page_content='オンプレのサーバー環境を「<b>Google Cloud</b>」へモダナイズがもたらす新たな体験とはIaaS として <b>Google Cloud</b> サービスを活用するための重要ポイントを解説オンプレミスから<b>クラウド</b>へサーバー環境を移行することの本質は、モダナイズの実現にある。では、 その実現において検討すべきことや重要なこと、成功させるためのポイントとは。<b>Google Cloud</b> のサービスを例にひも解く。 <b>クラウド</b>移行の目的はモダナイズIaaS からの着手が成功のポイントインフラストラクチャ 組織がサーバー環境をオンプレミスから<b>クラウド</b>へ移行する理由には、「ハードウェアや設備の老朽化」「保守切れ」「自動化や柔軟性の実現」などさまざま挙げられるが、共通するのは「サーバーを“所有”から“利用”へ」という考え方だろう。 とはいえ、これは単に場所を変えることではない。その本質は<b>クラウド</b>移行によりビジネスを変えることが目的であり、 いわゆるモダナイズを実現することだ。 <b>クラウド</b>移行によるモダナイズは、大きくアプリケーションとインフラストラクチャに分かれる。前者は開発ライフサイクルの改善や俊敏性向上、価値創出などをターゲットとした個別最適化であり、後者はサーバーやストレージ、ネットワークをターゲットに、アプリケーションを動かすための基盤環境を改善する全体最適化を実現するものである。 最終ゴールは<b>クラウド</b>ネイティブなアプリケーション環境だが、オンプレミスから同フェーズへ一足飛びに移行するのは難しい。アプリケーションとインフラストラクチャではモダナイズ対象の領域が異なり、関わるメンバーや作業内容も違うからだ。 まずは、インフラストラクチャのモダナイズで全体最適化（IaaS 導入）から道筋をつけて、アプリケーションのモダナイズへ進むのが効率的である。 そこで本稿で注目したいのが、さまざまな <b>Google Cloud</b> のコンピューティング・サービスにおいて、IaaS 向けに利用さ れ る こ と の 多 い「Compute Engine」と「VMware Engine」である。 では、両サービスの違いは ...' metadata={'id': '71e6f4a30958214ff02e2b3664ed9d6f', 'source': 'gs://gab-upload/gcp/Google_ebooks_all_0614.pdf17'}\n",
            "page_content='54 <b>Google Cloud</b> VM への接続は、<b>Google</b> または <b>Google</b> 代行者が管理する物理境界の外側へと通信が向かう時点で、認証され、暗号化されます。 • <b>Cloud</b> Dedicated Interconnect を使用: Dedicated Interconnect を使用して接続する場合、その接続は、オンプレミスのホストを直接の始点または終点として、GFE を経由しません。この接続はデフォルトでは暗号化されず、セキュリティは、ユーザーの裁量で提供されるものになります。 仮想マシン間<b>Google</b> のネットワーク バックボーンで、RFC1918 のプライベート IP アドレスを使用して実行される VM 間ルーティングでは、<b>Google</b> または<b>Google</b> 代行者が管理する物理境界から、その外側へと必要に応じてトラフィックをルーティングすることがあります。VM 間のルーティングとしては、以下の例が挙げられます。 • Compute Engine の VM 同士がリクエストを相互に送信する• お客様の VM から <b>Cloud</b> SQL など <b>Google</b> が管理する VM に接続するVM 間の接続は、トラフィックが物理境界の外側に離れる場合、物理境界の内側で暗号化され、認証されます。パブリック IP アドレスを使用する VM 間トラフィックは、デフォルトでは暗号化されず、セキュリティはユーザーの裁量で提供されます。図 1 に、該当するインタラクションを示しています（接続 C）。 仮想マシンから <b>Google Cloud</b> サービスへの通信VM がリクエストを <b>Google Cloud</b> サービスにルーティングする場合、リクエストは GFE 宛てにルーティングされます（前述のとおり、<b>Google</b> が管理する VM で <b>Google Cloud</b> サービスが実行されている場合は除きます）。GFE は、リクエストを受け取ると、インターネットから着信するリクエストと同様の方法でルーティングします。VM から <b>Google Cloud</b> サービスへのトラフィックの場合は、 ...' metadata={'id': '68144e3a1179b96fc58b4df05f913185', 'source': 'gs://gab-upload/gcp/security_whitepapers_4_booklet_jp.pdf54'}\n",
            "page_content='56 [図 2] [図 3] デフォルトでの保護<b>Google Cloud</b> 全体のレイヤ 7 におけるデフォルトの保護とオプションの保護3 すべてのお客様のパスが GFE を経由してルーティングされるわけではありません。GFE が使用されるのは、ユーザーから <b>Google Cloud</b> サービスへのトラフィックと、<b>Google Cloud</b> 上でホストされ、<b>Google Cloud</b> Load Balancing を使用しているお客様のアプリケーションへのトラフィックです。 3 レイヤ 7 で保護されていない VM - サービス間の通信も、レイヤ 3 とレイヤ 4 では保護されます。' metadata={'id': '68144e3a1179b96fc58b4df05f913185', 'source': 'gs://gab-upload/gcp/security_whitepapers_4_booklet_jp.pdf56'}\n",
            "page_content='<b>Google Cloud</b> Platform の顧客データポリシーの使用https://<b>cloud</b>.<b>google</b>.com/terms/ 13. G Suite（Gmail、ドライブなど）でのアプリケーション セキュリティとコンプライアンスの詳細) https://goo.gl/3J20R2.' metadata={'id': '68144e3a1179b96fc58b4df05f913185', 'source': 'gs://gab-upload/gcp/security_whitepapers_4_booklet_jp.pdf22'}\n",
            "page_content='者の承認を必須とする処置や、機密情報を公開することなくデバッグすることが可能な制限付き API の導入などです。 エンドユーザー情報への <b>Google</b> 社員のアクセスは、下位インフラストラクチャ フックを介して記録することができます。<b>Google</b> のセキュリティ チームは、積極的に、アクセス パターンを監視し、異常なイベントを調査しています。 侵入検知<b>Google</b> では、個々の端末上のホストベースの信号、インフラストラクチャ内のさまざまなモニタリング ポイントからのネットワーク ベースの信号、インフラストラクチャサービスからの信号を統合する高度なデータ処理パイプラインを導入しています。 これらのパイプライン上に構築されたルールとマシン インテリジェンスから、可能性のあるインシデントの警告が運用セキュリティ エンジニアにもたらされます。<b>Google</b> の調査およびインシデント対応チームは、これらの潜在的なインシデントを<b>年</b>中無休で選別、調査、対応しています。<b>Google</b> では、検出メカニズムと対応メカニズムの有効性を評価して改善するための Red Team 訓練を実施しています。 <b>Google Cloud</b> Platform（GCP） の保護このセクションでは、<b>Google</b> のパブリック <b>クラウド</b> インフラストラクチャである GCP が、基礎となるインフラストラクチャのセキュリティからメリットを得ている様子を説明します。<b>Google</b> Compute Engine サービスを例として取り上げ、インフラストラクチャ上に構築されたサービス固有のセキュリティ強化について詳しく説明します。 GCE を使用すれば、お客様は <b>Google</b> のインフラストラクチャ上で独自の仮想マシンを実行することができます。GCE 実装は、いくつかの論理コンポーネントで構成されます。注目すべき主なコンポーネントは管理制御プレーンと仮想マシン自体です。 管理制御プレーンは、外部 API サーフェスを公開し、仮想マシンの作成や移行などのタスクをオーケストレートします。このプレーンは、インフラストラクチャ上の ...' metadata={'id': '22d074133fdf5c497a35846e1d9b1baa', 'source': 'gs://gab-upload/gcp/google_infrastructure_whitepaper_fa_jp.pdf13'}\n",
            "page_content='まとめサービスをインターネット規模で安全に構築、デプロイ、運用するために <b>Google</b> インフラストラクチャがどのように設計されているかについて説明しました。この中には、Gmail などの消費者向けサービスと企業向けサービスの両方が含まれています。加えて、<b>Google Cloud</b> の各プロダクトもこの同じインフラストラクチャ上に構築されています。 <b>Google</b> では、インフラストラクチャの保護に多額の投資をしており、セキュリティとプライバシー専門の数百人ものエンジニアが <b>Google</b> 全域に配置されています。業界の権威として認識されているエンジニアも多数います。 これまで見てきたように、インフラストラクチャのセキュリティは、まずは物理コンポーネントとデータセンター、そしてハードウェアの供給元、次にブートのセキュリティ、サービス間通信のセキュリティ、保存データのセキュリティ、インターネットからサービスへの保護アクセス、そして最後に、オペレーションのセキュリティのために導入されている技術と人材によるプロセスというように、進行型の階層構造で設計されています。 追加情報特定の分野の詳細については、以下の資料をご覧ください。 1. データセンターの物理的セキュリティhttps://goo.gl/WYlKGG 2. クラスタの管理とオーケストレーションの設計http://research.<b>google</b>.com/pubs/pub43438.html 3. ストレージ暗号化機能と顧客対応 GCP 暗号化機能https://<b>cloud</b>.<b>google</b>.com/security/encryption-at-rest/ 4. BigTable ストレージ サービスhttp://research.<b>google</b>.com/archive/bigtable.html 5. Spanner ストレージ サービスhttp://research.<b>google</b>.com/archive/spanner.html 6. ネットワーク負荷分散のアーキテクチャhttp://research.<b>google</b>.com/ ...' metadata={'id': '22d074133fdf5c497a35846e1d9b1baa', 'source': 'gs://gab-upload/gcp/google_infrastructure_whitepaper_fa_jp.pdf15'}\n",
            "page_content='CIO レベルの概要1 <b>Google</b> には、<b>Google</b> の情報処理ライフサイクル全域を通してセキュリティを確保するように設計されたグローバル規模の技術インフラストラクチャがあります。このインフラストラクチャによって、サービスのデプロイにおけるセキュリティ、データ ストレージのセキュリティ（とエンドユーザーのプライバシー保護）、サービス間の通信のセキュリティ、お客様とインターネット経由の通信の機密性とセキュリティ、管理者オペレーションの安全性が提供されています。 検索、Gmail、フォトなどの消費者向けサービスと、G Suite や <b>Google Cloud</b> Platform などの企業向けサービスの両方からなる <b>Google</b> のインターネット サービスは、このインフラストラクチャを使用して構築されています。 インフラストラクチャのセキュリティは、進行型の階層構造で設計されています。 まず、データセンターの物理的なセキュリティがあり、次にインフラストラクチャの基礎となるハードウェアとソフトウェアのセキュリティがあり、最後にオペレーションのセキュリティをサポートする技術的な制限やプロセスがあります。 <b>Google</b> では、自社のインフラストラクチャと全社に分散した何百人ものセキュリティとプライバシー専門のエンジニア（中には業界の権威として認められている人もいます）に多大な投資を行っています。 • • • •' metadata={'id': '22d074133fdf5c497a35846e1d9b1baa', 'source': 'gs://gab-upload/gcp/google_infrastructure_whitepaper_fa_jp.pdf3'}\n"
          ]
        }
      ],
      "source": [
        "from langchain_google_community import VertexAISearchRetriever\n",
        "\n",
        "retriever = VertexAISearchRetriever(\n",
        "    project_id=PROJECT_ID, location_id=DATA_STORE_LOCATION, data_store_id=DATA_STORE_ID, get_extractive_answers=True, max_extractive_answer_count=3, max_documents=5\n",
        ")\n",
        "\n",
        "result = retriever.invoke(PROMPT)\n",
        "for doc in result:\n",
        "    print(doc)"
      ]
    },
    {
      "cell_type": "markdown",
      "metadata": {
        "id": "lL-mLm4PDzDL"
      },
      "source": [
        "VertexAISearchRetriever と Gemini を組み合わせた RAG による回答を確認します。"
      ]
    },
    {
      "cell_type": "code",
      "execution_count": null,
      "metadata": {
        "colab": {
          "base_uri": "https://localhost:8080/",
          "height": 64
        },
        "id": "sNsu_krEFI8t",
        "outputId": "ff9bcf98-3aea-4d03-f1d1-abcf9256a237"
      },
      "outputs": [
        {
          "data": {
            "text/markdown": [
              "Google Cloud の Revenue は、2023年には33088百万ドル、2024年には43229百万ドルでした。2023年から2024年にかけて、Google Cloud の Revenue は101億ドル増加しました。この成長は主に Google Cloud Platform、特にインフラストラクチャサービスによるものです。\n"
            ],
            "text/plain": [
              "<IPython.core.display.Markdown object>"
            ]
          },
          "execution_count": 21,
          "metadata": {},
          "output_type": "execute_result"
        }
      ],
      "source": [
        "from langchain_core.output_parsers import StrOutputParser\n",
        "from langchain_core.prompts import ChatPromptTemplate\n",
        "from langchain_core.runnables import RunnablePassthrough\n",
        "from langchain_google_vertexai import ChatVertexAI\n",
        "\n",
        "prompt = ChatPromptTemplate.from_template(\n",
        "    \"\"\"次のコンテキスト情報を利用して、最後の質問に答えてください。回答は300字程度で回答してください。\n",
        "\n",
        "Context: {context}\n",
        "\n",
        "Question: {question}\"\"\"\n",
        ")\n",
        "\n",
        "llm = ChatVertexAI(model_name=MODEL_ID)\n",
        "chain = (\n",
        "    {\"context\": retriever, \"question\": RunnablePassthrough()}\n",
        "    | prompt\n",
        "    | llm\n",
        "    | StrOutputParser()\n",
        ")\n",
        "response = chain.invoke(PROMPT)\n",
        "Markdown(response)"
      ]
    },
    {
      "cell_type": "markdown",
      "metadata": {
        "id": "o9ldZltOd9-s"
      },
      "source": [
        "## Code Execution でデータ分析\n",
        "\n",
        "分析用の CSV ファイルを取得します。"
      ]
    },
    {
      "cell_type": "code",
      "execution_count": null,
      "metadata": {
        "id": "0wX3LeMdv_9I"
      },
      "outputs": [],
      "source": [
        "!curl -o tokyo-chika-2025.csv https://storage.googleapis.com/public4llm/tokyo-chika-2025.csv\n",
        "with open(\"tokyo-chika-2025.csv\", \"rb\") as f:\n",
        "    csvFile = f.read()"
      ]
    },
    {
      "cell_type": "markdown",
      "metadata": {
        "id": "1wLhifxvwWi8"
      },
      "source": [
        "ファイルのレイアウトを確認します。"
      ]
    },
    {
      "cell_type": "code",
      "execution_count": 24,
      "metadata": {
        "colab": {
          "base_uri": "https://localhost:8080/",
          "height": 206
        },
        "id": "m2umPqsrfD2z",
        "outputId": "21a0aff5-ef9b-4e5c-e19e-e61475478339"
      },
      "outputs": [
        {
          "data": {
            "application/vnd.google.colaboratory.intrinsic+json": {
              "summary": "{\n  \"name\": \"df\",\n  \"rows\": 2560,\n  \"fields\": [\n    {\n      \"column\": \"\\u6240\\u5728\\u30fb\\u5730\\u756a\",\n      \"properties\": {\n        \"dtype\": \"string\",\n        \"num_unique_values\": 2560,\n        \"samples\": [\n          \"\\u6771\\u4eac\\u90fd\\u3000\\u65e5\\u91ce\\u5e02\\u6804\\u753a\\uff12\\u4e01\\u76ee\\uff11\\uff14\\u756a\\uff14\",\n          \"\\u6771\\u4eac\\u90fd\\u3000\\u7acb\\u5ddd\\u5e02\\u6804\\u753a\\uff14\\u4e01\\u76ee\\uff12\\uff11\\u756a\\uff11\\uff16\",\n          \"\\u6771\\u4eac\\u90fd\\u3000\\u677f\\u6a4b\\u533a\\u76f8\\u751f\\u753a\\uff12\\uff10\\uff11\\uff17\\u756a\"\n        ],\n        \"semantic_type\": \"\",\n        \"description\": \"\"\n      }\n    },\n    {\n      \"column\": \"\\u4f4f\\u5c45\\u8868\\u793a\",\n      \"properties\": {\n        \"dtype\": \"string\",\n        \"num_unique_values\": 1860,\n        \"samples\": [\n          \"\\u5343\\u99c4\\u6728\\uff12\\uff0d\\uff19\\uff0d\\uff11\\uff14\",\n          \"\\u6771\\u4e94\\u53cd\\u7530\\uff12\\uff0d\\uff14\\uff0d\\uff15\",\n          \"\\u4f50\\u91ce\\uff11\\uff0d\\uff13\\uff14\\uff0d\\uff19\"\n        ],\n        \"semantic_type\": \"\",\n        \"description\": \"\"\n      }\n    },\n    {\n      \"column\": \"\\u5229\\u7528\\u73fe\\u6cc1\",\n      \"properties\": {\n        \"dtype\": \"category\",\n        \"num_unique_values\": 127,\n        \"samples\": [\n          \"\\u5efa\\u7bc9\\u4e2d\",\n          \"\\u5de5\\u5834\\u517c\\u5009\\u5eab\",\n          \"\\u5e97\\u8217\\u3001\\u4f4f\\u5b85\\u517c\\u5171\\u540c\\u4f4f\\u5b85\"\n        ],\n        \"semantic_type\": \"\",\n        \"description\": \"\"\n      }\n    },\n    {\n      \"column\": \"\\u99c5\\u540d\",\n      \"properties\": {\n        \"dtype\": \"category\",\n        \"num_unique_values\": 575,\n        \"samples\": [\n          \"\\u56fd\\u969b\\u5c55\\u793a\\u5834\",\n          \"\\u4e0a\\u91ce\",\n          \"\\u6771\\u677e\\u539f\"\n        ],\n        \"semantic_type\": \"\",\n        \"description\": \"\"\n      }\n    },\n    {\n      \"column\": \"\\u99c5\\u8ddd\\u96e2\",\n      \"properties\": {\n        \"dtype\": \"number\",\n        \"std\": 891,\n        \"min\": 0,\n        \"max\": 9100,\n        \"num_unique_values\": 151,\n        \"samples\": [\n          770,\n          480,\n          1600\n        ],\n        \"semantic_type\": \"\",\n        \"description\": \"\"\n      }\n    },\n    {\n      \"column\": \"\\u90fd\\u5e02\\u8a08\\u753b\\u7528\\u9014\\u5730\\u57df\",\n      \"properties\": {\n        \"dtype\": \"category\",\n        \"num_unique_values\": 13,\n        \"samples\": [\n          \"2\\u4f4e\\u5c02\",\n          \"\\u5de5\\u696d\",\n          \"2\\u4f4f\\u5c45\"\n        ],\n        \"semantic_type\": \"\",\n        \"description\": \"\"\n      }\n    },\n    {\n      \"column\": \"\\u5bfe\\u524d\\u5e74\\u5909\\u52d5\\u7387\",\n      \"properties\": {\n        \"dtype\": \"number\",\n        \"std\": 4.7242382580096685,\n        \"min\": -1.7,\n        \"max\": 32.7,\n        \"num_unique_values\": 223,\n        \"samples\": [\n          14.3,\n          12.8,\n          4.5\n        ],\n        \"semantic_type\": \"\",\n        \"description\": \"\"\n      }\n    },\n    {\n      \"column\": \"\\u4fa1\\u683cR06\",\n      \"properties\": {\n        \"dtype\": \"number\",\n        \"std\": 3319104,\n        \"min\": 0,\n        \"max\": 55700000,\n        \"num_unique_values\": 1132,\n        \"samples\": [\n          620000,\n          198000,\n          435000\n        ],\n        \"semantic_type\": \"\",\n        \"description\": \"\"\n      }\n    },\n    {\n      \"column\": \"\\u4fa1\\u683cR07\",\n      \"properties\": {\n        \"dtype\": \"number\",\n        \"std\": 3528601,\n        \"min\": 1560,\n        \"max\": 60500000,\n        \"num_unique_values\": 1179,\n        \"samples\": [\n          2740000,\n          2210000,\n          2620000\n        ],\n        \"semantic_type\": \"\",\n        \"description\": \"\"\n      }\n    }\n  ]\n}",
              "type": "dataframe",
              "variable_name": "df"
            },
            "text/html": [
              "\n",
              "  <div id=\"df-2d40286c-456b-4b9e-8cf7-8974930916e5\" class=\"colab-df-container\">\n",
              "    <div>\n",
              "<style scoped>\n",
              "    .dataframe tbody tr th:only-of-type {\n",
              "        vertical-align: middle;\n",
              "    }\n",
              "\n",
              "    .dataframe tbody tr th {\n",
              "        vertical-align: top;\n",
              "    }\n",
              "\n",
              "    .dataframe thead th {\n",
              "        text-align: right;\n",
              "    }\n",
              "</style>\n",
              "<table border=\"1\" class=\"dataframe\">\n",
              "  <thead>\n",
              "    <tr style=\"text-align: right;\">\n",
              "      <th></th>\n",
              "      <th>所在・地番</th>\n",
              "      <th>住居表示</th>\n",
              "      <th>利用現況</th>\n",
              "      <th>駅名</th>\n",
              "      <th>駅距離</th>\n",
              "      <th>都市計画用途地域</th>\n",
              "      <th>対前年変動率</th>\n",
              "      <th>価格R06</th>\n",
              "      <th>価格R07</th>\n",
              "    </tr>\n",
              "  </thead>\n",
              "  <tbody>\n",
              "    <tr>\n",
              "      <th>0</th>\n",
              "      <td>東京都　千代田区三番町６番２５</td>\n",
              "      <td>_</td>\n",
              "      <td>共同住宅</td>\n",
              "      <td>半蔵門</td>\n",
              "      <td>500</td>\n",
              "      <td>2住居</td>\n",
              "      <td>10.0</td>\n",
              "      <td>3600000</td>\n",
              "      <td>3960000</td>\n",
              "    </tr>\n",
              "    <tr>\n",
              "      <th>1</th>\n",
              "      <td>東京都　千代田区紀尾井町３番２７外</td>\n",
              "      <td>紀尾井町３－３２</td>\n",
              "      <td>共同住宅</td>\n",
              "      <td>永田町</td>\n",
              "      <td>300</td>\n",
              "      <td>2住居</td>\n",
              "      <td>11.9</td>\n",
              "      <td>2260000</td>\n",
              "      <td>2530000</td>\n",
              "    </tr>\n",
              "    <tr>\n",
              "      <th>2</th>\n",
              "      <td>東京都　千代田区六番町６番１外</td>\n",
              "      <td>_</td>\n",
              "      <td>共同住宅</td>\n",
              "      <td>四ツ谷</td>\n",
              "      <td>330</td>\n",
              "      <td>2住居</td>\n",
              "      <td>10.0</td>\n",
              "      <td>4390000</td>\n",
              "      <td>4830000</td>\n",
              "    </tr>\n",
              "    <tr>\n",
              "      <th>3</th>\n",
              "      <td>東京都　千代田区富士見１丁目８番６</td>\n",
              "      <td>富士見１－４－１２</td>\n",
              "      <td>共同住宅</td>\n",
              "      <td>飯田橋</td>\n",
              "      <td>360</td>\n",
              "      <td>1住居</td>\n",
              "      <td>13.2</td>\n",
              "      <td>1740000</td>\n",
              "      <td>1970000</td>\n",
              "    </tr>\n",
              "    <tr>\n",
              "      <th>4</th>\n",
              "      <td>東京都　千代田区九段北２丁目６番２６</td>\n",
              "      <td>九段北２－３－２５</td>\n",
              "      <td>共同住宅</td>\n",
              "      <td>九段下</td>\n",
              "      <td>450</td>\n",
              "      <td>1住居</td>\n",
              "      <td>10.2</td>\n",
              "      <td>3340000</td>\n",
              "      <td>3680000</td>\n",
              "    </tr>\n",
              "  </tbody>\n",
              "</table>\n",
              "</div>\n",
              "    <div class=\"colab-df-buttons\">\n",
              "\n",
              "  <div class=\"colab-df-container\">\n",
              "    <button class=\"colab-df-convert\" onclick=\"convertToInteractive('df-2d40286c-456b-4b9e-8cf7-8974930916e5')\"\n",
              "            title=\"Convert this dataframe to an interactive table.\"\n",
              "            style=\"display:none;\">\n",
              "\n",
              "  <svg xmlns=\"http://www.w3.org/2000/svg\" height=\"24px\" viewBox=\"0 -960 960 960\">\n",
              "    <path d=\"M120-120v-720h720v720H120Zm60-500h600v-160H180v160Zm220 220h160v-160H400v160Zm0 220h160v-160H400v160ZM180-400h160v-160H180v160Zm440 0h160v-160H620v160ZM180-180h160v-160H180v160Zm440 0h160v-160H620v160Z\"/>\n",
              "  </svg>\n",
              "    </button>\n",
              "\n",
              "  <style>\n",
              "    .colab-df-container {\n",
              "      display:flex;\n",
              "      gap: 12px;\n",
              "    }\n",
              "\n",
              "    .colab-df-convert {\n",
              "      background-color: #E8F0FE;\n",
              "      border: none;\n",
              "      border-radius: 50%;\n",
              "      cursor: pointer;\n",
              "      display: none;\n",
              "      fill: #1967D2;\n",
              "      height: 32px;\n",
              "      padding: 0 0 0 0;\n",
              "      width: 32px;\n",
              "    }\n",
              "\n",
              "    .colab-df-convert:hover {\n",
              "      background-color: #E2EBFA;\n",
              "      box-shadow: 0px 1px 2px rgba(60, 64, 67, 0.3), 0px 1px 3px 1px rgba(60, 64, 67, 0.15);\n",
              "      fill: #174EA6;\n",
              "    }\n",
              "\n",
              "    .colab-df-buttons div {\n",
              "      margin-bottom: 4px;\n",
              "    }\n",
              "\n",
              "    [theme=dark] .colab-df-convert {\n",
              "      background-color: #3B4455;\n",
              "      fill: #D2E3FC;\n",
              "    }\n",
              "\n",
              "    [theme=dark] .colab-df-convert:hover {\n",
              "      background-color: #434B5C;\n",
              "      box-shadow: 0px 1px 3px 1px rgba(0, 0, 0, 0.15);\n",
              "      filter: drop-shadow(0px 1px 2px rgba(0, 0, 0, 0.3));\n",
              "      fill: #FFFFFF;\n",
              "    }\n",
              "  </style>\n",
              "\n",
              "    <script>\n",
              "      const buttonEl =\n",
              "        document.querySelector('#df-2d40286c-456b-4b9e-8cf7-8974930916e5 button.colab-df-convert');\n",
              "      buttonEl.style.display =\n",
              "        google.colab.kernel.accessAllowed ? 'block' : 'none';\n",
              "\n",
              "      async function convertToInteractive(key) {\n",
              "        const element = document.querySelector('#df-2d40286c-456b-4b9e-8cf7-8974930916e5');\n",
              "        const dataTable =\n",
              "          await google.colab.kernel.invokeFunction('convertToInteractive',\n",
              "                                                    [key], {});\n",
              "        if (!dataTable) return;\n",
              "\n",
              "        const docLinkHtml = 'Like what you see? Visit the ' +\n",
              "          '<a target=\"_blank\" href=https://colab.research.google.com/notebooks/data_table.ipynb>data table notebook</a>'\n",
              "          + ' to learn more about interactive tables.';\n",
              "        element.innerHTML = '';\n",
              "        dataTable['output_type'] = 'display_data';\n",
              "        await google.colab.output.renderOutput(dataTable, element);\n",
              "        const docLink = document.createElement('div');\n",
              "        docLink.innerHTML = docLinkHtml;\n",
              "        element.appendChild(docLink);\n",
              "      }\n",
              "    </script>\n",
              "  </div>\n",
              "\n",
              "\n",
              "<div id=\"df-2aa23e99-2bf2-4219-b5a4-429dee542e3c\">\n",
              "  <button class=\"colab-df-quickchart\" onclick=\"quickchart('df-2aa23e99-2bf2-4219-b5a4-429dee542e3c')\"\n",
              "            title=\"Suggest charts\"\n",
              "            style=\"display:none;\">\n",
              "\n",
              "<svg xmlns=\"http://www.w3.org/2000/svg\" height=\"24px\"viewBox=\"0 0 24 24\"\n",
              "     width=\"24px\">\n",
              "    <g>\n",
              "        <path d=\"M19 3H5c-1.1 0-2 .9-2 2v14c0 1.1.9 2 2 2h14c1.1 0 2-.9 2-2V5c0-1.1-.9-2-2-2zM9 17H7v-7h2v7zm4 0h-2V7h2v10zm4 0h-2v-4h2v4z\"/>\n",
              "    </g>\n",
              "</svg>\n",
              "  </button>\n",
              "\n",
              "<style>\n",
              "  .colab-df-quickchart {\n",
              "      --bg-color: #E8F0FE;\n",
              "      --fill-color: #1967D2;\n",
              "      --hover-bg-color: #E2EBFA;\n",
              "      --hover-fill-color: #174EA6;\n",
              "      --disabled-fill-color: #AAA;\n",
              "      --disabled-bg-color: #DDD;\n",
              "  }\n",
              "\n",
              "  [theme=dark] .colab-df-quickchart {\n",
              "      --bg-color: #3B4455;\n",
              "      --fill-color: #D2E3FC;\n",
              "      --hover-bg-color: #434B5C;\n",
              "      --hover-fill-color: #FFFFFF;\n",
              "      --disabled-bg-color: #3B4455;\n",
              "      --disabled-fill-color: #666;\n",
              "  }\n",
              "\n",
              "  .colab-df-quickchart {\n",
              "    background-color: var(--bg-color);\n",
              "    border: none;\n",
              "    border-radius: 50%;\n",
              "    cursor: pointer;\n",
              "    display: none;\n",
              "    fill: var(--fill-color);\n",
              "    height: 32px;\n",
              "    padding: 0;\n",
              "    width: 32px;\n",
              "  }\n",
              "\n",
              "  .colab-df-quickchart:hover {\n",
              "    background-color: var(--hover-bg-color);\n",
              "    box-shadow: 0 1px 2px rgba(60, 64, 67, 0.3), 0 1px 3px 1px rgba(60, 64, 67, 0.15);\n",
              "    fill: var(--button-hover-fill-color);\n",
              "  }\n",
              "\n",
              "  .colab-df-quickchart-complete:disabled,\n",
              "  .colab-df-quickchart-complete:disabled:hover {\n",
              "    background-color: var(--disabled-bg-color);\n",
              "    fill: var(--disabled-fill-color);\n",
              "    box-shadow: none;\n",
              "  }\n",
              "\n",
              "  .colab-df-spinner {\n",
              "    border: 2px solid var(--fill-color);\n",
              "    border-color: transparent;\n",
              "    border-bottom-color: var(--fill-color);\n",
              "    animation:\n",
              "      spin 1s steps(1) infinite;\n",
              "  }\n",
              "\n",
              "  @keyframes spin {\n",
              "    0% {\n",
              "      border-color: transparent;\n",
              "      border-bottom-color: var(--fill-color);\n",
              "      border-left-color: var(--fill-color);\n",
              "    }\n",
              "    20% {\n",
              "      border-color: transparent;\n",
              "      border-left-color: var(--fill-color);\n",
              "      border-top-color: var(--fill-color);\n",
              "    }\n",
              "    30% {\n",
              "      border-color: transparent;\n",
              "      border-left-color: var(--fill-color);\n",
              "      border-top-color: var(--fill-color);\n",
              "      border-right-color: var(--fill-color);\n",
              "    }\n",
              "    40% {\n",
              "      border-color: transparent;\n",
              "      border-right-color: var(--fill-color);\n",
              "      border-top-color: var(--fill-color);\n",
              "    }\n",
              "    60% {\n",
              "      border-color: transparent;\n",
              "      border-right-color: var(--fill-color);\n",
              "    }\n",
              "    80% {\n",
              "      border-color: transparent;\n",
              "      border-right-color: var(--fill-color);\n",
              "      border-bottom-color: var(--fill-color);\n",
              "    }\n",
              "    90% {\n",
              "      border-color: transparent;\n",
              "      border-bottom-color: var(--fill-color);\n",
              "    }\n",
              "  }\n",
              "</style>\n",
              "\n",
              "  <script>\n",
              "    async function quickchart(key) {\n",
              "      const quickchartButtonEl =\n",
              "        document.querySelector('#' + key + ' button');\n",
              "      quickchartButtonEl.disabled = true;  // To prevent multiple clicks.\n",
              "      quickchartButtonEl.classList.add('colab-df-spinner');\n",
              "      try {\n",
              "        const charts = await google.colab.kernel.invokeFunction(\n",
              "            'suggestCharts', [key], {});\n",
              "      } catch (error) {\n",
              "        console.error('Error during call to suggestCharts:', error);\n",
              "      }\n",
              "      quickchartButtonEl.classList.remove('colab-df-spinner');\n",
              "      quickchartButtonEl.classList.add('colab-df-quickchart-complete');\n",
              "    }\n",
              "    (() => {\n",
              "      let quickchartButtonEl =\n",
              "        document.querySelector('#df-2aa23e99-2bf2-4219-b5a4-429dee542e3c button');\n",
              "      quickchartButtonEl.style.display =\n",
              "        google.colab.kernel.accessAllowed ? 'block' : 'none';\n",
              "    })();\n",
              "  </script>\n",
              "</div>\n",
              "\n",
              "    </div>\n",
              "  </div>\n"
            ],
            "text/plain": [
              "                所在・地番       住居表示  利用現況   駅名  駅距離 都市計画用途地域  対前年変動率    価格R06  \\\n",
              "0     東京都　千代田区三番町６番２５          _  共同住宅  半蔵門  500      2住居    10.0  3600000   \n",
              "1   東京都　千代田区紀尾井町３番２７外   紀尾井町３－３２  共同住宅  永田町  300      2住居    11.9  2260000   \n",
              "2     東京都　千代田区六番町６番１外          _  共同住宅  四ツ谷  330      2住居    10.0  4390000   \n",
              "3   東京都　千代田区富士見１丁目８番６  富士見１－４－１２  共同住宅  飯田橋  360      1住居    13.2  1740000   \n",
              "4  東京都　千代田区九段北２丁目６番２６  九段北２－３－２５  共同住宅  九段下  450      1住居    10.2  3340000   \n",
              "\n",
              "     価格R07  \n",
              "0  3960000  \n",
              "1  2530000  \n",
              "2  4830000  \n",
              "3  1970000  \n",
              "4  3680000  "
            ]
          },
          "execution_count": 24,
          "metadata": {},
          "output_type": "execute_result"
        }
      ],
      "source": [
        "import pandas as pd\n",
        "\n",
        "df = pd.read_csv('tokyo-chika-2025.csv')\n",
        "df.head()"
      ]
    },
    {
      "cell_type": "markdown",
      "metadata": {
        "id": "JerovnXqw_wf"
      },
      "source": [
        "Gemini の Code Execution 機能を利用してデータ分析を行います。"
      ]
    },
    {
      "cell_type": "code",
      "execution_count": null,
      "metadata": {
        "id": "E7FHrMIIeDKY"
      },
      "outputs": [],
      "source": [
        "from google.genai.types import ToolCodeExecution\n",
        "\n",
        "code_execution_tool = Tool(code_execution=ToolCodeExecution())\n",
        "response = client.models.generate_content(\n",
        "    model=MODEL_ID,\n",
        "    contents=[\n",
        "        Part.from_bytes(data=csvFile, mime_type=\"text/csv\"),\n",
        "        Part.from_text(text=\"地価が高い土地上位20を表示して\"),\n",
        "    ],\n",
        "    config=GenerateContentConfig(\n",
        "        tools=[code_execution_tool],\n",
        "        temperature=0,\n",
        "    ),\n",
        ")\n",
        "\n",
        "response"
      ]
    },
    {
      "cell_type": "code",
      "execution_count": 27,
      "metadata": {
        "colab": {
          "base_uri": "https://localhost:8080/",
          "height": 354
        },
        "id": "dKWi8DfRj89W",
        "outputId": "cb890618-421b-481f-93f1-bf4b12248b47"
      },
      "outputs": [
        {
          "data": {
            "text/markdown": [
              "import pandas as pd\n",
              "\n",
              "# Load the CSV file into a pandas DataFrame\n",
              "df = pd.read_csv(\"input_file_0.csv\")\n",
              "\n",
              "# Sort the DataFrame by the '価格R07' column in descending order\n",
              "df_sorted = df.sort_values(by='価格R07', ascending=False)\n",
              "\n",
              "# Select the top 20 rows\n",
              "df_top20 = df_sorted.head(20)\n",
              "\n",
              "# Print the selected data\n",
              "print(df_top20)\n"
            ],
            "text/plain": [
              "<IPython.core.display.Markdown object>"
            ]
          },
          "execution_count": 27,
          "metadata": {},
          "output_type": "execute_result"
        }
      ],
      "source": [
        "Markdown(response.executable_code)"
      ]
    },
    {
      "cell_type": "code",
      "execution_count": 28,
      "metadata": {
        "colab": {
          "base_uri": "https://localhost:8080/",
          "height": 307
        },
        "id": "Zqq1G2NNkJRj",
        "outputId": "cddcbc43-9473-49fa-e335-07ad2b31eb11"
      },
      "outputs": [
        {
          "data": {
            "text/markdown": [
              "                   所在・地番        住居表示         利用現況     駅名  駅距離 都市計画用途地域  対前年変動率     価格R06     価格R07\n",
              "88       東京都　中央区銀座４丁目２番４     銀座４－５－６           店舗     銀座    0       商業     8.6  55700000  60500000\n",
              "107   東京都　中央区銀座５丁目１０３番１６     銀座５－４－３       店舗兼事務所     銀座    0       商業     8.6  47600000  51700000\n",
              "95     東京都　中央区銀座２丁目２番１９外     銀座２－６－７       店舗兼事務所  銀座一丁目    0       商業     8.6  40900000  44400000\n",
              "89      東京都　中央区銀座７丁目１番２外    銀座７－９－１９           店舗     銀座  260       商業     8.0  39900000  43100000\n",
              "264   東京都　新宿区新宿３丁目８０７番１外    新宿３－２４－１       店舗兼事務所     新宿    0       商業     5.3  38000000  40000000\n",
              "253   東京都　新宿区新宿３丁目３０番１３外   新宿３－３０－１１       店舗兼事務所  新宿三丁目    0       商業     4.6  36900000  38600000\n",
              "8     東京都　千代田区丸の内２丁目２番１外    丸の内２－４－１       事務所兼店舗     東京    0       商業     0.8  36800000  37100000\n",
              "845    東京都　渋谷区宇田川町７７番１４外    宇田川町２３－３    銀行、店舗兼事務所     渋谷  150       商業     7.0  31300000  33500000\n",
              "84    東京都　中央区銀座４丁目１０３番１外    銀座４－２－１５       店舗兼事務所     銀座    0       商業     8.4  29600000  32100000\n",
              "68     東京都　中央区銀座６丁目４番１３外     銀座６－８－３           店舗     銀座  150       商業     5.1  29300000  30800000\n",
              "27    東京都　千代田区大手町２丁目４番２外    大手町２－２－１   店舗、事務所兼駐車場    大手町    0       商業     1.0  29100000  29400000\n",
              "849  東京都　渋谷区神宮前４丁目２６番４３外  神宮前４－２６－１８   店舗、事務所兼住宅等  明治神宮前  150       商業     1.1  28200000  28500000\n",
              "25     東京都　千代田区丸の内３丁目２番外    丸の内３－３－１  事務所、店舗兼駐車場等     東京  480       商業     0.7  26900000  27100000\n",
              "837   東京都　渋谷区道玄坂２丁目３６番１０   道玄坂２－６－１７   店舗、事務所兼映画館     渋谷  200       商業     5.8  24200000  25600000\n",
              "71      東京都　中央区京橋１丁目１番１外           _          建築中     東京  300       商業     3.5  22900000  23700000\n",
              "109  東京都　中央区八重洲１丁目１０５番５３   八重洲１－５－２０   店舗、事務所兼駐車場     東京  280       商業     2.6  23000000  23600000\n",
              "234     東京都　新宿区西新宿１丁目７番３    西新宿１－７－１       店舗兼事務所     新宿    0       商業     4.7  21200000  22200000\n",
              "101    東京都　中央区日本橋２丁目１番１外   日本橋２－１－１０       店舗兼事務所    日本橋    0       商業     3.3  21300000  22000000\n",
              "856    東京都　渋谷区神宮前１丁目１３番５  神宮前１－１３－１１    店舗、事務所兼住宅     原宿  190       商業     4.3  20900000  21800000\n",
              "31    東京都　千代田区有楽町１丁目１２番２    有楽町１－１－３   劇場、事務所兼店舗等    日比谷  100       商業     0.9  21500000  21700000\n"
            ],
            "text/plain": [
              "<IPython.core.display.Markdown object>"
            ]
          },
          "execution_count": 28,
          "metadata": {},
          "output_type": "execute_result"
        }
      ],
      "source": [
        "Markdown(response.code_execution_result)"
      ]
    }
  ],
  "metadata": {
    "colab": {
      "provenance": [],
      "toc_visible": true
    },
    "kernelspec": {
      "display_name": "Python 3",
      "name": "python3"
    },
    "language_info": {
      "name": "python"
    }
  },
  "nbformat": 4,
  "nbformat_minor": 0
}
